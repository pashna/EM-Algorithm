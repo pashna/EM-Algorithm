{
 "cells": [
  {
   "cell_type": "markdown",
   "metadata": {},
   "source": [
    "# Домашнее задание 3. Алгоритмы кластеризации"
   ]
  },
  {
   "cell_type": "markdown",
   "metadata": {},
   "source": [
    "Основная задача этого задания -- реализация одного из алгоритмов кластеризации. Кроме того, мы научимся подбирать параметры алгоритма, визуализируем результат кластеризации и попытаемся проанализировать природу полученных кластеров."
   ]
  },
  {
   "cell_type": "code",
   "execution_count": 7,
   "metadata": {
    "collapsed": false
   },
   "outputs": [
    {
     "name": "stdout",
     "output_type": "stream",
     "text": [
      "Populating the interactive namespace from numpy and matplotlib\n"
     ]
    }
   ],
   "source": [
    "import pandas as pd\n",
    "import pylab as pl\n",
    "import numpy as np\n",
    "import scipy.spatial as ss\n",
    "import sklearn.cluster as sc\n",
    "import sklearn.manifold as sm\n",
    "import sklearn.datasets as ds\n",
    "import sklearn.metrics as smt\n",
    "from scipy.stats import multivariate_normal as gaussian\n",
    "from numpy import linalg as LA\n",
    "from sklearn import cluster\n",
    "import scipy.stats as stats\n",
    "# Plotting config\n",
    "%pylab inline"
   ]
  },
  {
   "cell_type": "markdown",
   "metadata": {},
   "source": [
    "Cчитываем данные, полученные в результате выполнения предыдущего домашнего задания, в `data frame` библиотеки `pandas`. Конвертируем данные в массив `numpy`."
   ]
  },
  {
   "cell_type": "code",
   "execution_count": 8,
   "metadata": {
    "collapsed": false
   },
   "outputs": [
    {
     "data": {
      "text/html": [
       "<div>\n",
       "<table border=\"1\" class=\"dataframe\">\n",
       "  <thead>\n",
       "    <tr style=\"text-align: right;\">\n",
       "      <th></th>\n",
       "      <th>followers_count</th>\n",
       "      <th>friends_count</th>\n",
       "      <th>statuses_count</th>\n",
       "      <th>favourites_count</th>\n",
       "      <th>listed_count</th>\n",
       "      <th>created_year</th>\n",
       "      <th>name_words</th>\n",
       "      <th>screen_name_length</th>\n",
       "      <th>description_length</th>\n",
       "    </tr>\n",
       "    <tr>\n",
       "      <th>twitter_id</th>\n",
       "      <th></th>\n",
       "      <th></th>\n",
       "      <th></th>\n",
       "      <th></th>\n",
       "      <th></th>\n",
       "      <th></th>\n",
       "      <th></th>\n",
       "      <th></th>\n",
       "      <th></th>\n",
       "    </tr>\n",
       "  </thead>\n",
       "  <tbody>\n",
       "    <tr>\n",
       "      <th>66412773</th>\n",
       "      <td>0.517354</td>\n",
       "      <td>0.641639</td>\n",
       "      <td>0.842635</td>\n",
       "      <td>0.520354</td>\n",
       "      <td>0.493751</td>\n",
       "      <td>0.111111</td>\n",
       "      <td>0.416667</td>\n",
       "      <td>0.96875</td>\n",
       "      <td>0.25</td>\n",
       "    </tr>\n",
       "    <tr>\n",
       "      <th>10143902</th>\n",
       "      <td>0.446893</td>\n",
       "      <td>0.530175</td>\n",
       "      <td>0.468081</td>\n",
       "      <td>0.315955</td>\n",
       "      <td>0.419829</td>\n",
       "      <td>0.111111</td>\n",
       "      <td>0.666667</td>\n",
       "      <td>0.48125</td>\n",
       "      <td>0.00</td>\n",
       "    </tr>\n",
       "    <tr>\n",
       "      <th>73701917</th>\n",
       "      <td>0.492488</td>\n",
       "      <td>0.389437</td>\n",
       "      <td>0.760603</td>\n",
       "      <td>0.542262</td>\n",
       "      <td>0.342905</td>\n",
       "      <td>0.222222</td>\n",
       "      <td>0.166667</td>\n",
       "      <td>0.34375</td>\n",
       "      <td>0.25</td>\n",
       "    </tr>\n",
       "    <tr>\n",
       "      <th>82209363</th>\n",
       "      <td>0.374736</td>\n",
       "      <td>0.469622</td>\n",
       "      <td>0.659542</td>\n",
       "      <td>0.724335</td>\n",
       "      <td>0.072952</td>\n",
       "      <td>0.111111</td>\n",
       "      <td>0.916667</td>\n",
       "      <td>0.39375</td>\n",
       "      <td>0.25</td>\n",
       "    </tr>\n",
       "    <tr>\n",
       "      <th>47063951</th>\n",
       "      <td>0.522846</td>\n",
       "      <td>0.630204</td>\n",
       "      <td>0.722684</td>\n",
       "      <td>0.844944</td>\n",
       "      <td>0.320427</td>\n",
       "      <td>0.222222</td>\n",
       "      <td>0.583333</td>\n",
       "      <td>0.86875</td>\n",
       "      <td>0.25</td>\n",
       "    </tr>\n",
       "  </tbody>\n",
       "</table>\n",
       "</div>"
      ],
      "text/plain": [
       "            followers_count  friends_count  statuses_count  favourites_count  \\\n",
       "twitter_id                                                                     \n",
       "66412773           0.517354       0.641639        0.842635          0.520354   \n",
       "10143902           0.446893       0.530175        0.468081          0.315955   \n",
       "73701917           0.492488       0.389437        0.760603          0.542262   \n",
       "82209363           0.374736       0.469622        0.659542          0.724335   \n",
       "47063951           0.522846       0.630204        0.722684          0.844944   \n",
       "\n",
       "            listed_count  created_year  name_words  screen_name_length  \\\n",
       "twitter_id                                                               \n",
       "66412773        0.493751      0.111111    0.416667             0.96875   \n",
       "10143902        0.419829      0.111111    0.666667             0.48125   \n",
       "73701917        0.342905      0.222222    0.166667             0.34375   \n",
       "82209363        0.072952      0.111111    0.916667             0.39375   \n",
       "47063951        0.320427      0.222222    0.583333             0.86875   \n",
       "\n",
       "            description_length  \n",
       "twitter_id                      \n",
       "66412773                  0.25  \n",
       "10143902                  0.00  \n",
       "73701917                  0.25  \n",
       "82209363                  0.25  \n",
       "47063951                  0.25  "
      ]
     },
     "execution_count": 8,
     "metadata": {},
     "output_type": "execute_result"
    }
   ],
   "source": [
    "data_df = pd.read_csv(\"hw2_out.csv\", sep=\"\\t\", header=0, index_col=\"twitter_id\")\n",
    "x = data_df.values\n",
    "\n",
    "data_df.head()"
   ]
  },
  {
   "cell_type": "markdown",
   "metadata": {},
   "source": [
    "Алгоритм кластеризации, который необходимо реализовать, выбирается на основании Вашего логина на портале Техносферы."
   ]
  },
  {
   "cell_type": "code",
   "execution_count": 9,
   "metadata": {
    "collapsed": false
   },
   "outputs": [
    {
     "name": "stdout",
     "output_type": "stream",
     "text": [
      "Реализуем алгоритм кластеризации 'Gaussian Mixture Model с использованием maximum a-posteriori для выбора кластера (параметр - k)'\n"
     ]
    }
   ],
   "source": [
    "algorithms = [\n",
    "    u\"Gaussian Mixture Model с использованием maximum a-posteriori для выбора кластера (параметр - k)\",\n",
    "    u\"Hierarchical clustering с поддержкой single-linkage, complete-linkage, average-linkage (параметры - k, linkage)\",\n",
    "    u\"DBSCAN. (параметры - epsilon, min_pts)\"\n",
    "]\n",
    "\n",
    "my_algorithm = algorithms[hash(\"p02p\") % len(algorithms)]\n",
    "print u\"Реализуем алгоритм кластеризации '%s'\" % my_algorithm"
   ]
  },
  {
   "cell_type": "markdown",
   "metadata": {},
   "source": [
    "Алгоритм кластеризации должен удовлетворять следующему интерфейсу. Конструктор принимает набор параметров, необходимых для работы алгоритма кластеризации. Метод `fit` подсчитывает параметры модели и возвращает `self`. Метод `predict` возвращает вектор с индексами кластеров для поданных в него объектов `x`"
   ]
  },
  {
   "cell_type": "code",
   "execution_count": 99,
   "metadata": {
    "collapsed": false
   },
   "outputs": [],
   "source": [
    "class Clustering:\n",
    "    \"\"\"\n",
    "    Implement clustering algorithm according\n",
    "    \"\"\"\n",
    "\n",
    "    def __init__(self, k, max_iter=1000, eps=1e-3, max_exec = 4, min_cov=1e-3):\n",
    "        \"\"\"\n",
    "        Please add necessary algoritm parameters to class constructor.\n",
    "        \"\"\"\n",
    "        self.k = k # Количество кластеров\n",
    "        self.__max_iter = max_iter # Максимальное количество итераций в em\n",
    "        self.__eps = eps # Условие останова\n",
    "        self.__max_exec = max_exec # Максимальное количество попыток выполнить, при том что программа \"падает\" из-за инициализации\n",
    "        self.__min_cov = min_cov # Если матрица вырожденная - добавляем матрицу с таким элементом по диагонали\n",
    "\n",
    "        return\n",
    "\n",
    "    def __init_params__(self, x_dimen, x_len, x):\n",
    "        \"\"\"\n",
    "        Начальное приближение\n",
    "        \"\"\"\n",
    "        \n",
    "        # Мат ожидание с помощью K-means\n",
    "        self.__m = cluster.KMeans( \\\n",
    "                    n_clusters=self.k, \\\n",
    "                    random_state=5).fit(x).cluster_centers_\n",
    "\n",
    "        # Случайным образом дисперсию. - симметричную матрицу\n",
    "        \n",
    "        self.__d = np.zeros([self.k, x_dimen, x_dimen])\n",
    "        for i in range(self.k):\n",
    "            n=100 # Количество точек в каждом векторе\n",
    "            vals=[]\n",
    "            for _ in range(x_dimen):\n",
    "                vals.append(np.random.normal(size=n))\n",
    "            self.__d[i]=np.cov(vals)\n",
    "\n",
    "        \n",
    "        # Равновероятно априроные вероятности\n",
    "        self.__p = np.tile(1.0 / self.k,self.k)\n",
    "        #self.__p = np.array([random.random() for i in range(self.k)])\n",
    "        #self.__p /= np.sum(self.__p)\n",
    "\n",
    "        # Нулями y\n",
    "        self.__y = np.zeros([x_len, self.k])\n",
    "        \n",
    "        \n",
    "    def __is_singular(self, a):\n",
    "        return a.shape[0] == a.shape[1] and np.linalg.matrix_rank(a) == a.shape[0]\n",
    "        \n",
    "        \n",
    "        \n",
    "        \n",
    "    def fit(self, x, y=None):\n",
    "        \n",
    "        # Количество точек\n",
    "        x_count = len(x)\n",
    "\n",
    "        # Размерность каждой точки\n",
    "        x_dimen = x.shape[1]\n",
    "\n",
    "        # Инициализируем параметры\n",
    "        self.__init_params__(x_dimen, x_count, x)\n",
    "        \n",
    "        last_norm = 0;\n",
    "        new_norm = self.__eps + 1;\n",
    "        n_iter = -1\n",
    "        \n",
    "        while ( \\\n",
    "               (abs(last_norm - new_norm) > self.__eps) \\\n",
    "               and (self.__max_iter > n_iter) \\\n",
    "              ):\n",
    "        \n",
    "            # Обновляем критерии останова\n",
    "            n_iter += 1\n",
    "            last_norm = LA.norm(self.__y)\n",
    "            \n",
    "            # E - step\n",
    "            #print \"E start\"\n",
    "            \"\"\"\n",
    "            for i in range(x_count):\n",
    "                \n",
    "                p_full = 0 # Полная вероятность выпадения x[i]\n",
    "                for j in range(self.k):\n",
    "                    p_full += self.__p[j] * gaussian.pdf(x[i], mean=self.__m[j], cov=self.__d[j])\n",
    "                for j in range(self.k):\n",
    "                    self.__y[i][j] = self.__p[j] * gaussian.pdf(x[i], mean=self.__m[j], cov=self.__d[j])/p_full;\n",
    "            \"\"\"\n",
    "            #gaussian.pdf(x, mean=self.__m[0], cov=self.__d[0])\n",
    "            \n",
    "            \n",
    "            gauss = []\n",
    "            gauss_result = np.zeros([self.k, x_count])\n",
    "            for j in range(self.k):\n",
    "                gauss = stats.multivariate_normal(self.__m[j], self.__d[j])\n",
    "                gauss_result[j] = gauss.pdf(x)\n",
    "            \n",
    "            # Знаменатель дроби, он же полная вероятность выпадения x[i]\n",
    "            p_full = np.dot(gauss_result.T, self.__p)\n",
    "            \n",
    "            \n",
    "            # Считаем матрицу y - вероятности того, что элемент x[i] получен из j-ого набора параметров\n",
    "            self.__y1 = (gauss_result * self.__p[:,None] / p_full).T\n",
    "            print \"y_old=\"\n",
    "            print self.__y \n",
    "            print \"y_new=\"\n",
    "            self.__y1\n",
    "            \n",
    "            \n",
    "            new_norm = LA.norm(self.__y)\n",
    "            #print \"N_clu={}, Diff = {}, iter = {}\".format(self.k, last_norm - new_norm, n_iter)\n",
    "            \n",
    "            #print \"M start\"\n",
    "            # M - step\n",
    "            # суммируем столбцы, результат в N\n",
    "            N = self.__y.sum(axis=0)\n",
    "            \n",
    "            \n",
    "            # Вычисляем математическое ожидание. N[:,None] - поворачивает вектор (был строкой, стал столбцом)\n",
    "            self.__m = np.dot(self.__y.T, x) / N[:,None]\n",
    "            \n",
    "            # Вычисляем абсолютную вероятность кластера\n",
    "            self.__p = N/self.k\n",
    "            \n",
    "            for j in range(self.k):\n",
    "\n",
    "                # Вычисляем дисперсию (матрицу ковариации)\n",
    "                \n",
    "                self.__d[j] = np.zeros([x_dimen, x_dimen])\n",
    "                for i in range(x_count):\n",
    "                    mat_2 = np.mat((x[i]-self.__m[j]))\n",
    "                    mat_1 = mat_2.T\n",
    "                    self.__d[j] += self.__y[i][j]*(mat_1*mat_2)\n",
    "                self.__d[j] = self.__d[j]/N[j]\n",
    "                \n",
    "                \"\"\"\n",
    "                if LA.det(self.__d[j]) < 1e-20:\n",
    "                    print \"Вырожденная\"\n",
    "                    self.__d[j]+=np.mat(np.diag([self.__min_cov]*x_dimen))\n",
    "                 \"\"\"\n",
    "                \n",
    "        return self\n",
    "\n",
    "\n",
    "    def __fit(self, x, y=None):\n",
    "        \"\"\"\n",
    "        Иногда, из-а того что данные случайные, получается вырожденная матрица.\n",
    "        Если матрица вырожденная - перезапускаем алгоритм\n",
    "        \"\"\"\n",
    "#        exec_count = 0\n",
    "#        while(exec_count < self.__max_exec):\n",
    "        try:\n",
    "            self.__em_algorithm(x)\n",
    "            return self\n",
    "        except LA.LinAlgError as err:\n",
    "            print (\"Вырожденная матрица!\")\n",
    "            #return self\n",
    "#            exec_count += 1\n",
    "                \n",
    "        return self # Если не досчитал - возвращаем, что осталось\n",
    "\n",
    "\n",
    "    def predict(self, x):\n",
    "        \"\"\"\n",
    "        Using computed model parameters predict cluster\n",
    "        for all objects from x\n",
    "        \"\"\"\n",
    "        result = np.zeros(len(x), dtype=numpy.int)\n",
    "        \n",
    "        # По нашей модели считаем вероятность кластера для каждого элемента вектора. Складываем индексы полученых кластеров\n",
    "        for i in range(len(x)):\n",
    "            \n",
    "            y = [0]*self.k\n",
    "            \n",
    "            p_full = 0\n",
    "            \n",
    "            for j in range(self.k):\n",
    "                p_full += self.__p[j] * gaussian.pdf(x[i], mean=self.__m[j], cov=self.__d[j])\n",
    "            for j in range(self.k):\n",
    "                y[j] = self.__p[j] * gaussian.pdf(x[i], mean=self.__m[j], cov=self.__d[j])/p_full;\n",
    "\n",
    "            result[i] = y.index(max(y))\n",
    "            \n",
    "        return result\n",
    "\n",
    "    def fit_predict(self, x, y=None):\n",
    "        self.fit(x, y)\n",
    "        return self.predict(x)\n"
   ]
  },
  {
   "cell_type": "markdown",
   "metadata": {},
   "source": [
    "Сначала проверим реализованный алгоритм кластеризации на классическом наборе данных [Iris](http://www.wikiwand.com/en/Iris_flower_data_set). Загрузим данные (они включены в библиотеку sklearn) и посмотрим на то, как они выглядят в двух проекциях (для простоты используем 2 класса из 3)."
   ]
  },
  {
   "cell_type": "code",
   "execution_count": 100,
   "metadata": {
    "collapsed": false
   },
   "outputs": [
    {
     "data": {
      "image/png": "[encoded data removed]",
      "text/plain": [
       "<matplotlib.figure.Figure at 0x7fa6b63df6d0>"
      ]
     },
     "metadata": {},
     "output_type": "display_data"
    }
   ],
   "source": [
    "iris = ds.load_iris()\n",
    "x_iris = iris.data[:3]\n",
    "y_iris = iris.target[:3]\n",
    "\n",
    "pl.figure(figsize=(10, 5))\n",
    "\n",
    "pl.subplot(1, 2, 1)\n",
    "pl.scatter(x_iris[:, 0], x_iris[:, 1], c=y_iris, cmap=pl.cm.PuOr, lw=0, s=30)\n",
    "plt.xlabel('Sepal length')\n",
    "plt.ylabel('Sepal width')\n",
    "\n",
    "pl.subplot(1, 2, 2)\n",
    "pl.scatter(x_iris[:, 2], x_iris[:, 3], c=y_iris, cmap=pl.cm.PuOr, lw=0, s=30)\n",
    "plt.xlabel('Petal length')\n",
    "plt.ylabel('Petal width')\n",
    "pl.show()"
   ]
  },
  {
   "cell_type": "markdown",
   "metadata": {},
   "source": [
    "Видно, что классы разделяются, поэтому можно надеяться, что наш алгоритм \"найдет\" кластеры, соответствующие исходным классам. Результат работы реализованного алгоритма кластеризации предлагается сравнить с эталонной кластеризацией. Для этого предлагается изучить метрику ([adjusted rand score](http://scikit-learn.org/stable/modules/generated/sklearn.metrics.adjusted_rand_score.html)). В случае если значение этой метрики отличается от 1, предлагается поработать над улучшением реализации своего алгоритма."
   ]
  },
  {
   "cell_type": "markdown",
   "metadata": {},
   "source": [
    "Выбрать и реализовать критерий качества, на основании которого будут подбираться параметры модели. Варианты критериев:\n",
    "- Инерция (сумма квадратов расстояний от каждой из точек до ближайшего к этой точке центроида)\n",
    "- Средний диаметр (максимальное расстояние между точками в кластере) или радиус (расстояние от центроида до самой дальней от него точки в кластере)\n",
    "- Sihouette\n",
    "\n",
    "**Критерий качества необходимо выбрать таким образом, чтобы он подходил для реализованного алгоритма**"
   ]
  },
  {
   "cell_type": "code",
   "execution_count": 101,
   "metadata": {
    "collapsed": false
   },
   "outputs": [
    {
     "name": "stdout",
     "output_type": "stream",
     "text": [
      "y_old=\n",
      "[[ 0.  0.]\n",
      " [ 0.  0.]\n",
      " [ 0.  0.]]\n",
      "y_new=\n"
     ]
    },
    {
     "ename": "ValueError",
     "evalue": "array must not contain infs or NaNs",
     "output_type": "error",
     "traceback": [
      "\u001b[1;31m---------------------------------------------------------------------------\u001b[0m",
      "\u001b[1;31mValueError\u001b[0m                                Traceback (most recent call last)",
      "\u001b[1;32m<ipython-input-101-6b1e9fb2b55d>\u001b[0m in \u001b[0;36m<module>\u001b[1;34m()\u001b[0m\n\u001b[0;32m      5\u001b[0m \"\"\"\n\u001b[0;32m      6\u001b[0m \u001b[1;33m\u001b[0m\u001b[0m\n\u001b[1;32m----> 7\u001b[1;33m \u001b[0mpred_iris\u001b[0m \u001b[1;33m=\u001b[0m \u001b[0mClustering\u001b[0m\u001b[1;33m(\u001b[0m\u001b[1;36m2\u001b[0m\u001b[1;33m)\u001b[0m\u001b[1;33m.\u001b[0m\u001b[0mfit_predict\u001b[0m\u001b[1;33m(\u001b[0m\u001b[0mx_iris\u001b[0m\u001b[1;33m)\u001b[0m\u001b[1;33m\u001b[0m\u001b[0m\n\u001b[0m\u001b[0;32m      8\u001b[0m \"\"\"\n\u001b[0;32m      9\u001b[0m \u001b[1;32mfrom\u001b[0m \u001b[0msklearn\u001b[0m \u001b[1;32mimport\u001b[0m \u001b[0mmixture\u001b[0m\u001b[1;33m\u001b[0m\u001b[0m\n",
      "\u001b[1;32m<ipython-input-99-6b9d7c804d1a>\u001b[0m in \u001b[0;36mfit_predict\u001b[1;34m(self, x, y)\u001b[0m\n\u001b[0;32m    179\u001b[0m     \u001b[1;32mdef\u001b[0m \u001b[0mfit_predict\u001b[0m\u001b[1;33m(\u001b[0m\u001b[0mself\u001b[0m\u001b[1;33m,\u001b[0m \u001b[0mx\u001b[0m\u001b[1;33m,\u001b[0m \u001b[0my\u001b[0m\u001b[1;33m=\u001b[0m\u001b[0mNone\u001b[0m\u001b[1;33m)\u001b[0m\u001b[1;33m:\u001b[0m\u001b[1;33m\u001b[0m\u001b[0m\n\u001b[0;32m    180\u001b[0m         \u001b[0mself\u001b[0m\u001b[1;33m.\u001b[0m\u001b[0mfit\u001b[0m\u001b[1;33m(\u001b[0m\u001b[0mx\u001b[0m\u001b[1;33m,\u001b[0m \u001b[0my\u001b[0m\u001b[1;33m)\u001b[0m\u001b[1;33m\u001b[0m\u001b[0m\n\u001b[1;32m--> 181\u001b[1;33m         \u001b[1;32mreturn\u001b[0m \u001b[0mself\u001b[0m\u001b[1;33m.\u001b[0m\u001b[0mpredict\u001b[0m\u001b[1;33m(\u001b[0m\u001b[0mx\u001b[0m\u001b[1;33m)\u001b[0m\u001b[1;33m\u001b[0m\u001b[0m\n\u001b[0m",
      "\u001b[1;32m<ipython-input-99-6b9d7c804d1a>\u001b[0m in \u001b[0;36mpredict\u001b[1;34m(self, x)\u001b[0m\n\u001b[0;32m    169\u001b[0m \u001b[1;33m\u001b[0m\u001b[0m\n\u001b[0;32m    170\u001b[0m             \u001b[1;32mfor\u001b[0m \u001b[0mj\u001b[0m \u001b[1;32min\u001b[0m \u001b[0mrange\u001b[0m\u001b[1;33m(\u001b[0m\u001b[0mself\u001b[0m\u001b[1;33m.\u001b[0m\u001b[0mk\u001b[0m\u001b[1;33m)\u001b[0m\u001b[1;33m:\u001b[0m\u001b[1;33m\u001b[0m\u001b[0m\n\u001b[1;32m--> 171\u001b[1;33m                 \u001b[0mp_full\u001b[0m \u001b[1;33m+=\u001b[0m \u001b[0mself\u001b[0m\u001b[1;33m.\u001b[0m\u001b[0m__p\u001b[0m\u001b[1;33m[\u001b[0m\u001b[0mj\u001b[0m\u001b[1;33m]\u001b[0m \u001b[1;33m*\u001b[0m \u001b[0mgaussian\u001b[0m\u001b[1;33m.\u001b[0m\u001b[0mpdf\u001b[0m\u001b[1;33m(\u001b[0m\u001b[0mx\u001b[0m\u001b[1;33m[\u001b[0m\u001b[0mi\u001b[0m\u001b[1;33m]\u001b[0m\u001b[1;33m,\u001b[0m \u001b[0mmean\u001b[0m\u001b[1;33m=\u001b[0m\u001b[0mself\u001b[0m\u001b[1;33m.\u001b[0m\u001b[0m__m\u001b[0m\u001b[1;33m[\u001b[0m\u001b[0mj\u001b[0m\u001b[1;33m]\u001b[0m\u001b[1;33m,\u001b[0m \u001b[0mcov\u001b[0m\u001b[1;33m=\u001b[0m\u001b[0mself\u001b[0m\u001b[1;33m.\u001b[0m\u001b[0m__d\u001b[0m\u001b[1;33m[\u001b[0m\u001b[0mj\u001b[0m\u001b[1;33m]\u001b[0m\u001b[1;33m)\u001b[0m\u001b[1;33m\u001b[0m\u001b[0m\n\u001b[0m\u001b[0;32m    172\u001b[0m             \u001b[1;32mfor\u001b[0m \u001b[0mj\u001b[0m \u001b[1;32min\u001b[0m \u001b[0mrange\u001b[0m\u001b[1;33m(\u001b[0m\u001b[0mself\u001b[0m\u001b[1;33m.\u001b[0m\u001b[0mk\u001b[0m\u001b[1;33m)\u001b[0m\u001b[1;33m:\u001b[0m\u001b[1;33m\u001b[0m\u001b[0m\n\u001b[0;32m    173\u001b[0m                 \u001b[0my\u001b[0m\u001b[1;33m[\u001b[0m\u001b[0mj\u001b[0m\u001b[1;33m]\u001b[0m \u001b[1;33m=\u001b[0m \u001b[0mself\u001b[0m\u001b[1;33m.\u001b[0m\u001b[0m__p\u001b[0m\u001b[1;33m[\u001b[0m\u001b[0mj\u001b[0m\u001b[1;33m]\u001b[0m \u001b[1;33m*\u001b[0m \u001b[0mgaussian\u001b[0m\u001b[1;33m.\u001b[0m\u001b[0mpdf\u001b[0m\u001b[1;33m(\u001b[0m\u001b[0mx\u001b[0m\u001b[1;33m[\u001b[0m\u001b[0mi\u001b[0m\u001b[1;33m]\u001b[0m\u001b[1;33m,\u001b[0m \u001b[0mmean\u001b[0m\u001b[1;33m=\u001b[0m\u001b[0mself\u001b[0m\u001b[1;33m.\u001b[0m\u001b[0m__m\u001b[0m\u001b[1;33m[\u001b[0m\u001b[0mj\u001b[0m\u001b[1;33m]\u001b[0m\u001b[1;33m,\u001b[0m \u001b[0mcov\u001b[0m\u001b[1;33m=\u001b[0m\u001b[0mself\u001b[0m\u001b[1;33m.\u001b[0m\u001b[0m__d\u001b[0m\u001b[1;33m[\u001b[0m\u001b[0mj\u001b[0m\u001b[1;33m]\u001b[0m\u001b[1;33m)\u001b[0m\u001b[1;33m/\u001b[0m\u001b[0mp_full\u001b[0m\u001b[1;33m;\u001b[0m\u001b[1;33m\u001b[0m\u001b[0m\n",
      "\u001b[1;32m/home/popka/anaconda/lib/python2.7/site-packages/scipy/stats/_multivariate.pyc\u001b[0m in \u001b[0;36mpdf\u001b[1;34m(self, x, mean, cov, allow_singular)\u001b[0m\n\u001b[0;32m    429\u001b[0m         \u001b[0mdim\u001b[0m\u001b[1;33m,\u001b[0m \u001b[0mmean\u001b[0m\u001b[1;33m,\u001b[0m \u001b[0mcov\u001b[0m \u001b[1;33m=\u001b[0m \u001b[0m_process_parameters\u001b[0m\u001b[1;33m(\u001b[0m\u001b[0mNone\u001b[0m\u001b[1;33m,\u001b[0m \u001b[0mmean\u001b[0m\u001b[1;33m,\u001b[0m \u001b[0mcov\u001b[0m\u001b[1;33m)\u001b[0m\u001b[1;33m\u001b[0m\u001b[0m\n\u001b[0;32m    430\u001b[0m         \u001b[0mx\u001b[0m \u001b[1;33m=\u001b[0m \u001b[0m_process_quantiles\u001b[0m\u001b[1;33m(\u001b[0m\u001b[0mx\u001b[0m\u001b[1;33m,\u001b[0m \u001b[0mdim\u001b[0m\u001b[1;33m)\u001b[0m\u001b[1;33m\u001b[0m\u001b[0m\n\u001b[1;32m--> 431\u001b[1;33m         \u001b[0mpsd\u001b[0m \u001b[1;33m=\u001b[0m \u001b[0m_PSD\u001b[0m\u001b[1;33m(\u001b[0m\u001b[0mcov\u001b[0m\u001b[1;33m,\u001b[0m \u001b[0mallow_singular\u001b[0m\u001b[1;33m=\u001b[0m\u001b[0mallow_singular\u001b[0m\u001b[1;33m)\u001b[0m\u001b[1;33m\u001b[0m\u001b[0m\n\u001b[0m\u001b[0;32m    432\u001b[0m         \u001b[0mout\u001b[0m \u001b[1;33m=\u001b[0m \u001b[0mnp\u001b[0m\u001b[1;33m.\u001b[0m\u001b[0mexp\u001b[0m\u001b[1;33m(\u001b[0m\u001b[0mself\u001b[0m\u001b[1;33m.\u001b[0m\u001b[0m_logpdf\u001b[0m\u001b[1;33m(\u001b[0m\u001b[0mx\u001b[0m\u001b[1;33m,\u001b[0m \u001b[0mmean\u001b[0m\u001b[1;33m,\u001b[0m \u001b[0mpsd\u001b[0m\u001b[1;33m.\u001b[0m\u001b[0mU\u001b[0m\u001b[1;33m,\u001b[0m \u001b[0mpsd\u001b[0m\u001b[1;33m.\u001b[0m\u001b[0mlog_pdet\u001b[0m\u001b[1;33m,\u001b[0m \u001b[0mpsd\u001b[0m\u001b[1;33m.\u001b[0m\u001b[0mrank\u001b[0m\u001b[1;33m)\u001b[0m\u001b[1;33m)\u001b[0m\u001b[1;33m\u001b[0m\u001b[0m\n\u001b[0;32m    433\u001b[0m         \u001b[1;32mreturn\u001b[0m \u001b[0m_squeeze_output\u001b[0m\u001b[1;33m(\u001b[0m\u001b[0mout\u001b[0m\u001b[1;33m)\u001b[0m\u001b[1;33m\u001b[0m\u001b[0m\n",
      "\u001b[1;32m/home/popka/anaconda/lib/python2.7/site-packages/scipy/stats/_multivariate.pyc\u001b[0m in \u001b[0;36m__init__\u001b[1;34m(self, M, cond, rcond, lower, check_finite, allow_singular)\u001b[0m\n\u001b[0;32m    207\u001b[0m         \u001b[1;31m# Note that eigh takes care of array conversion, chkfinite,\u001b[0m\u001b[1;33m\u001b[0m\u001b[1;33m\u001b[0m\u001b[0m\n\u001b[0;32m    208\u001b[0m         \u001b[1;31m# and assertion that the matrix is square.\u001b[0m\u001b[1;33m\u001b[0m\u001b[1;33m\u001b[0m\u001b[0m\n\u001b[1;32m--> 209\u001b[1;33m         \u001b[0ms\u001b[0m\u001b[1;33m,\u001b[0m \u001b[0mu\u001b[0m \u001b[1;33m=\u001b[0m \u001b[0mscipy\u001b[0m\u001b[1;33m.\u001b[0m\u001b[0mlinalg\u001b[0m\u001b[1;33m.\u001b[0m\u001b[0meigh\u001b[0m\u001b[1;33m(\u001b[0m\u001b[0mM\u001b[0m\u001b[1;33m,\u001b[0m \u001b[0mlower\u001b[0m\u001b[1;33m=\u001b[0m\u001b[0mlower\u001b[0m\u001b[1;33m,\u001b[0m \u001b[0mcheck_finite\u001b[0m\u001b[1;33m=\u001b[0m\u001b[0mcheck_finite\u001b[0m\u001b[1;33m)\u001b[0m\u001b[1;33m\u001b[0m\u001b[0m\n\u001b[0m\u001b[0;32m    210\u001b[0m \u001b[1;33m\u001b[0m\u001b[0m\n\u001b[0;32m    211\u001b[0m         \u001b[0meps\u001b[0m \u001b[1;33m=\u001b[0m \u001b[0m_eigvalsh_to_eps\u001b[0m\u001b[1;33m(\u001b[0m\u001b[0ms\u001b[0m\u001b[1;33m,\u001b[0m \u001b[0mcond\u001b[0m\u001b[1;33m,\u001b[0m \u001b[0mrcond\u001b[0m\u001b[1;33m)\u001b[0m\u001b[1;33m\u001b[0m\u001b[0m\n",
      "\u001b[1;32m/home/popka/anaconda/lib/python2.7/site-packages/scipy/linalg/decomp.pyc\u001b[0m in \u001b[0;36meigh\u001b[1;34m(a, b, lower, eigvals_only, overwrite_a, overwrite_b, turbo, eigvals, type, check_finite)\u001b[0m\n\u001b[0;32m    295\u001b[0m     \"\"\"\n\u001b[0;32m    296\u001b[0m     \u001b[1;32mif\u001b[0m \u001b[0mcheck_finite\u001b[0m\u001b[1;33m:\u001b[0m\u001b[1;33m\u001b[0m\u001b[0m\n\u001b[1;32m--> 297\u001b[1;33m         \u001b[0ma1\u001b[0m \u001b[1;33m=\u001b[0m \u001b[0masarray_chkfinite\u001b[0m\u001b[1;33m(\u001b[0m\u001b[0ma\u001b[0m\u001b[1;33m)\u001b[0m\u001b[1;33m\u001b[0m\u001b[0m\n\u001b[0m\u001b[0;32m    298\u001b[0m     \u001b[1;32melse\u001b[0m\u001b[1;33m:\u001b[0m\u001b[1;33m\u001b[0m\u001b[0m\n\u001b[0;32m    299\u001b[0m         \u001b[0ma1\u001b[0m \u001b[1;33m=\u001b[0m \u001b[0masarray\u001b[0m\u001b[1;33m(\u001b[0m\u001b[0ma\u001b[0m\u001b[1;33m)\u001b[0m\u001b[1;33m\u001b[0m\u001b[0m\n",
      "\u001b[1;32m/home/popka/anaconda/lib/python2.7/site-packages/numpy/lib/function_base.pyc\u001b[0m in \u001b[0;36masarray_chkfinite\u001b[1;34m(a, dtype, order)\u001b[0m\n\u001b[0;32m    611\u001b[0m     \u001b[1;32mif\u001b[0m \u001b[0ma\u001b[0m\u001b[1;33m.\u001b[0m\u001b[0mdtype\u001b[0m\u001b[1;33m.\u001b[0m\u001b[0mchar\u001b[0m \u001b[1;32min\u001b[0m \u001b[0mtypecodes\u001b[0m\u001b[1;33m[\u001b[0m\u001b[1;34m'AllFloat'\u001b[0m\u001b[1;33m]\u001b[0m \u001b[1;32mand\u001b[0m \u001b[1;32mnot\u001b[0m \u001b[0mnp\u001b[0m\u001b[1;33m.\u001b[0m\u001b[0misfinite\u001b[0m\u001b[1;33m(\u001b[0m\u001b[0ma\u001b[0m\u001b[1;33m)\u001b[0m\u001b[1;33m.\u001b[0m\u001b[0mall\u001b[0m\u001b[1;33m(\u001b[0m\u001b[1;33m)\u001b[0m\u001b[1;33m:\u001b[0m\u001b[1;33m\u001b[0m\u001b[0m\n\u001b[0;32m    612\u001b[0m         raise ValueError(\n\u001b[1;32m--> 613\u001b[1;33m             \"array must not contain infs or NaNs\")\n\u001b[0m\u001b[0;32m    614\u001b[0m     \u001b[1;32mreturn\u001b[0m \u001b[0ma\u001b[0m\u001b[1;33m\u001b[0m\u001b[0m\n\u001b[0;32m    615\u001b[0m \u001b[1;33m\u001b[0m\u001b[0m\n",
      "\u001b[1;31mValueError\u001b[0m: array must not contain infs or NaNs"
     ]
    }
   ],
   "source": [
    "from sklearn.cluster import KMeans\n",
    "\"\"\"\n",
    "kmean = KMeans(init='random', n_clusters=2)\n",
    "pred_iris = kmean.fit_predict(x_iris)\n",
    "\"\"\"\n",
    "\n",
    "pred_iris = Clustering(2).fit_predict(x_iris)\n",
    "\"\"\"\n",
    "from sklearn import mixture\n",
    "g = mixture.GMM(n_components=2, random_state=5)\n",
    "g.fit(x_iris)\n",
    "pred_iris = g.predict(x_iris)\n",
    "\n",
    "\"\"\"\n",
    "print \"y=\"\n",
    "print y_iris\n",
    "print \"pred_iris=\"\n",
    "print pred_iris\n",
    "\n",
    "\n",
    "print \"Adjusted Rand index for iris is: %.2f\" % smt.adjusted_rand_score(y_iris, pred_iris)"
   ]
  },
  {
   "cell_type": "code",
   "execution_count": null,
   "metadata": {
    "collapsed": false
   },
   "outputs": [],
   "source": [
    "def quality(x, y):\n",
    "    # Реализуем инерцию\n",
    "    \"\"\"\n",
    "    Implement quality criterion of your choice\n",
    "    \"\"\"\n",
    "    # Для каждого кластера считаем координаты центроида.\n",
    "    k = max(y)+1 # Количество кластеров\n",
    "    centroid = np.zeros([k, x.shape[1]]) # Координаты центроида\n",
    "    for i in range(len(x)):\n",
    "        centroid[y[i]] += x[i]\n",
    "    \n",
    "    for i in range(k):\n",
    "        centroid[i] /= (y==i).sum()\n",
    "    \n",
    "    #print(centroid)\n",
    "    # Расстояние каждой точки до ближайшего кластера\n",
    "    x_in = np.zeros(len(x))\n",
    "    for i in range(len(x)):\n",
    "        i_c_distance = np.zeros(k) # Расстояние от точки i до кластера j\n",
    "        for j in range(k):\n",
    "            i_c_distance[j] = np.sum((x[i]-centroid[j]**2))\n",
    "        x_in = i_c_distance.min()\n",
    "        \n",
    "    return x_in.sum()"
   ]
  },
  {
   "cell_type": "markdown",
   "metadata": {},
   "source": [
    "Применим критерий для выбора параметров алгоритма. Предлагается изменить следующий код таким образом, чтобы кластеризация вызывалась с верным набором параметров. На графике можно будет увидеть зависимость критерия от параметров алгоритма. Необходимо выбрать оптимальные значения этих параметров."
   ]
  },
  {
   "cell_type": "code",
   "execution_count": null,
   "metadata": {
    "collapsed": false
   },
   "outputs": [],
   "source": [
    "ks = range(1, 20)\n",
    "criteria = np.zeros(len(ks))\n",
    "\"\"\"\n",
    "from sklearn import mixture\n",
    "\n",
    "for i, k in enumerate(ks):\n",
    "    cls = Clustering(k)\n",
    "    g = mixture.GMM(n_components=k, random_state=5)\n",
    "    g.fit(x)\n",
    "    pred_iris = g.predict(x)\n",
    "    y = g.predict(x)\n",
    "    criteria[i] = quality(x, y)\n",
    "    print len(y)\n",
    "\"\"\"\n",
    "for i, k in enumerate(ks):\n",
    "    cls = Clustering(k)\n",
    "    y = cls.fit_predict(x)\n",
    "    criteria[i] = quality(x, y)\n",
    "    print i\n",
    "\n",
    "pl.figure(figsize=(8, 6))\n",
    "pl.plot(ks, criteria)\n",
    "pl.title(\"$J(k)$\")\n",
    "pl.ylabel(\"Criteria $J$\")\n",
    "pl.xlabel(\"Number of clusters $k$\")\n",
    "pl.grid()\n",
    "pl.show()"
   ]
  },
  {
   "cell_type": "markdown",
   "metadata": {},
   "source": [
    "Далее необходимо кластеризовать данные, используя выбранное количество кластеров, и визуализировать результат с помощью T-SNE. Внимание! На полном объеме данных данный алгоритм может работать существенное время. "
   ]
  },
  {
   "cell_type": "code",
   "execution_count": null,
   "metadata": {
    "collapsed": false
   },
   "outputs": [],
   "source": [
    "k = 5\n",
    "cls = Clustering(k)\n",
    "y = cls.fit_predict(x)"
   ]
  },
  {
   "cell_type": "code",
   "execution_count": null,
   "metadata": {
    "collapsed": false
   },
   "outputs": [],
   "source": [
    "from sklearn.cluster import KMeans\n",
    "kmean = KMeans(init='random', n_clusters=5)\n",
    "kmean.fit_predict(x)"
   ]
  },
  {
   "cell_type": "markdown",
   "metadata": {},
   "source": [
    "Визуализируем результаты кластеризации ([подсказка](http://anokhin.github.io/img/hw3_tsne-kmeans.png)). Можно ли сказать, что в двумерном пространстве объекты из одного кластера находятся недалеко? Какой вывод можно сделать о качестве кластеризации?"
   ]
  },
  {
   "cell_type": "code",
   "execution_count": null,
   "metadata": {
    "collapsed": false,
    "scrolled": true
   },
   "outputs": [],
   "source": [
    "tsne = sm.TSNE(n_components=2, verbose=1, n_iter=1000)\n",
    "z = tsne.fit_transform(x)\n",
    "\n",
    "# Color map\n",
    "cm = pl.get_cmap('jet')\n",
    "pl.figure(figsize=(10, 10))\n",
    "pl.scatter(z[:, 0], z[:, 1], c=map(lambda c: cm(1.0 * c / k), y))\n",
    "pl.axis('off')\n",
    "pl.show()"
   ]
  },
  {
   "cell_type": "markdown",
   "metadata": {},
   "source": [
    "Попробуем проанализировать полученные кластеры. Для того, чтобы интерпретировать \"суть\" каждого из кластеров, построим [radar plot](http://www.wikiwand.com/en/Radar_chart), отображающий их центроиды. Посмотрите на графики и попробуйте объяснить, каким поведением можно охарактеризовать каждый из полученных кластеров? Есть ли среди кластеров похожие?\n",
    "\n",
    "Реализация радара позаимствована отсюда: \n",
    "http://www.science-emergence.com/Matplotlib/MatplotlibGallery/RadarChartMatplotlibRougier/"
   ]
  },
  {
   "cell_type": "code",
   "execution_count": null,
   "metadata": {
    "collapsed": false
   },
   "outputs": [],
   "source": [
    "def radar(centroid, features, axes, color):\n",
    "    # Set ticks to the number of features (in radians)\n",
    "    t = np.arange(0, 2*np.pi, 2*np.pi/len(features))\n",
    "    plt.xticks(t, [])\n",
    "\n",
    "    # Set yticks from 0 to 1\n",
    "    plt.yticks(np.linspace(0, 1, 6))\n",
    "\n",
    "    # Draw polygon representing centroid\n",
    "    points = [(x, y) for x, y in zip(t, centroid)]\n",
    "    points.append(points[0])\n",
    "    points = np.array(points)\n",
    "    codes = [path.Path.MOVETO,] + [path.Path.LINETO,] * (len(centroid) - 1) + [ path.Path.CLOSEPOLY ]\n",
    "    _path = path.Path(points, codes)\n",
    "    _patch = patches.PathPatch(_path, fill=True, color=color, linewidth=0, alpha=.3)\n",
    "    axes.add_patch(_patch)\n",
    "    _patch = patches.PathPatch(_path, fill=False, linewidth = 2)\n",
    "    axes.add_patch(_patch)\n",
    "\n",
    "    # Draw circles at value points\n",
    "    plt.scatter(points[:,0], points[:,1], linewidth=2, s=50, color='white', edgecolor='black', zorder=10)\n",
    "\n",
    "    # Set axes limits\n",
    "    plt.ylim(0, 1)\n",
    "\n",
    "    # Draw ytick labels to make sure they fit properly\n",
    "    for i in range(len(features)):\n",
    "        angle_rad = i/float(len(features))*2*np.pi\n",
    "        angle_deg = i/float(len(features))*360\n",
    "        ha = \"right\"\n",
    "        if angle_rad < np.pi/2 or angle_rad > 3*np.pi/2: ha = \"left\"\n",
    "        plt.text(angle_rad, 1.05, features[i], size=7, horizontalalignment=ha, verticalalignment=\"center\")\n",
    "\n",
    "# Some additiola imports\n",
    "import matplotlib\n",
    "import matplotlib.path as path\n",
    "import matplotlib.pyplot as plt\n",
    "import matplotlib.patches as patches\n",
    "\n",
    "# Choose some nice colors\n",
    "matplotlib.rc('axes', facecolor = 'white')\n",
    "# Make figure background the same colors as axes \n",
    "fig = plt.figure(figsize=(15, 15), facecolor='white')\n",
    "\n",
    "cm = pl.get_cmap('jet')\n",
    "\n",
    "clusters = np.unique(y)\n",
    "for j, cluster in enumerate(clusters):    \n",
    "    x_c = x[y == cluster]\n",
    "    centroid = x_c.mean(axis=0)    \n",
    "    # Use a polar axes\n",
    "    axes = plt.subplot(3, 3, j + 1, polar=True)\n",
    "    radar(centroid, data_df.columns.values, axes, cm(1.0 * j / k))\n",
    "\n",
    "plt.show()"
   ]
  },
  {
   "cell_type": "markdown",
   "metadata": {},
   "source": [
    "Поздравляем, Вы завершили домашние задания по модулю \"Алгоритмы кластеризации\". Надеемся, что это было интересно."
   ]
  }
 ],
 "metadata": {
  "kernelspec": {
   "display_name": "Python 2",
   "language": "python",
   "name": "python2"
  },
  "language_info": {
   "codemirror_mode": {
    "name": "ipython",
    "version": 2
   },
   "file_extension": ".py",
   "mimetype": "text/x-python",
   "name": "python",
   "nbconvert_exporter": "python",
   "pygments_lexer": "ipython2",
   "version": "2.7.10"
  }
 },
 "nbformat": 4,
 "nbformat_minor": 0
}
